{
 "cells": [
  {
   "cell_type": "code",
   "execution_count": 4,
   "metadata": {},
   "outputs": [],
   "source": [
    "import sys\n",
    "import time\n",
    "import telepot\n",
    "import os\n",
    "import signal\n",
    "import json"
   ]
  },
  {
   "cell_type": "code",
   "execution_count": 27,
   "metadata": {},
   "outputs": [
    {
     "data": {
      "text/plain": [
       "<telepot.Bot at 0x72a9a590>"
      ]
     },
     "execution_count": 27,
     "metadata": {},
     "output_type": "execute_result"
    }
   ],
   "source": [
    "with open('key.json', 'r') as json_file:\n",
    "    API_KEY = json.loads(json_file.read()) \n",
    "bot = telepot.Bot(API_KEY['id'])\n",
    "bot"
   ]
  },
  {
   "cell_type": "code",
   "execution_count": 3,
   "metadata": {},
   "outputs": [
    {
     "data": {
      "text/plain": [
       "{'id': 565272379,\n",
       " 'is_bot': True,\n",
       " 'first_name': 'Testbot',\n",
       " 'username': 'Zalozhn1k_bot',\n",
       " 'can_join_groups': True,\n",
       " 'can_read_all_group_messages': False,\n",
       " 'supports_inline_queries': False}"
      ]
     },
     "execution_count": 3,
     "metadata": {},
     "output_type": "execute_result"
    }
   ],
   "source": [
    "info = bot.getMe()\n",
    "info"
   ]
  },
  {
   "cell_type": "code",
   "execution_count": 4,
   "metadata": {},
   "outputs": [
    {
     "name": "stdout",
     "output_type": "stream",
     "text": [
      "I am listening...\n",
      "Got command: exit\n",
      "exit\n"
     ]
    }
   ],
   "source": [
    "def on():\n",
    "        return 'On: ok'\n",
    "def off():\n",
    "        return 'Off: ok'\n",
    "def photo():\n",
    "        return \"photo: ok\"\n",
    "\n",
    "def handle(msg):\n",
    "    chat_id = msg['chat']['id']\n",
    "    command = msg['text'].lower()\n",
    "\n",
    "    print('Got command: %s' % command)\n",
    "\n",
    "    if command == 'exit': \n",
    "        bot.sendMessage(chat_id, os.getpid())\n",
    "        print ('exit')\n",
    "        time.sleep(1)\n",
    "        os.kill(os.getpid(), signal.SIGKILL)\n",
    "    elif command == 'on':\n",
    "       bot.sendMessage(chat_id, on())\n",
    "    elif command =='off':\n",
    "       bot.sendMessage(chat_id, off())\n",
    "    elif command =='photo':\n",
    "        bot.sendMessage(chat_id, photo())\n",
    "        os.system('fswebcam -r 1280x720 image.jpg')\n",
    "        bot.sendPhoto(chat_id, open('image.jpg', 'rb'))\n",
    "\n",
    "bot = telepot.Bot(API_KEY['id'])\n",
    "bot.message_loop(handle)\n",
    "print('I am listening...')\n"
   ]
  }
 ],
 "metadata": {
  "kernelspec": {
   "display_name": "Python 3",
   "language": "python",
   "name": "python3"
  },
  "language_info": {
   "codemirror_mode": {
    "name": "ipython",
    "version": 3
   },
   "file_extension": ".py",
   "mimetype": "text/x-python",
   "name": "python",
   "nbconvert_exporter": "python",
   "pygments_lexer": "ipython3",
   "version": "3.7.3"
  }
 },
 "nbformat": 4,
 "nbformat_minor": 4
}

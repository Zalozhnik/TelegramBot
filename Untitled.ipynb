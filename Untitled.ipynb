{
 "cells": [
  {
   "cell_type": "code",
   "execution_count": null,
   "metadata": {},
   "outputs": [],
   "source": [
    "import sys\n",
    "import time\n",
    "import telepot\n",
    "import os"
   ]
  },
  {
   "cell_type": "code",
   "execution_count": null,
   "metadata": {},
   "outputs": [],
   "source": [
    "bot = telepot.Bot('API_key')\n",
    "bot"
   ]
  },
  {
   "cell_type": "code",
   "execution_count": null,
   "metadata": {},
   "outputs": [],
   "source": [
    "info = bot.getMe()\n",
    "info"
   ]
  },
  {
   "cell_type": "code",
   "execution_count": null,
   "metadata": {},
   "outputs": [],
   "source": [
    "def on():\n",
    "        return 'On: ok'\n",
    "def off():\n",
    "        return 'Off: ok'\n",
    "\n",
    "def photo():\n",
    "        return \"photo: ok\"\n",
    "\n",
    "def handle(msg):\n",
    "    chat_id = msg['chat']['id']\n",
    "    command = msg['text']\n",
    "\n",
    "    print('Got command: %s' % command)\n",
    "\n",
    "    if command == 'on':\n",
    "       bot.sendMessage(chat_id, on())\n",
    "    elif command =='off':\n",
    "       bot.sendMessage(chat_id, off())\n",
    "    elif command =='photo':\n",
    "        bot.sendMessage(chat_id, photo())\n",
    "        os.system('fswebcam -r 1280x720 ~/TelegramBot/image.jpg')\n",
    "        bot.sendPhoto(chat_id, open('~/TelegramBot/image.jpg', 'rb'))\n",
    "\n",
    "bot = telepot.Bot('API_key')\n",
    "bot.message_loop(handle)\n",
    "print('I am listening...')\n"
   ]
  }
 ],
 "metadata": {
  "kernelspec": {
   "display_name": "Python 3",
   "language": "python",
   "name": "python3"
  },
  "language_info": {
   "codemirror_mode": {
    "name": "ipython",
    "version": 3
   },
   "file_extension": ".py",
   "mimetype": "text/x-python",
   "name": "python",
   "nbconvert_exporter": "python",
   "pygments_lexer": "ipython3",
   "version": "3.7.3"
  }
 },
 "nbformat": 4,
 "nbformat_minor": 4
}
